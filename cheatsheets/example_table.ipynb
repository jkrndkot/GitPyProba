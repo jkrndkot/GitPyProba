{
 "cells": [
  {
   "cell_type": "markdown",
   "id": "37e5b9b7",
   "metadata": {},
   "source": [
    "| Имя  | Возраст | Город  |\n",
    "|------|---------|--------|\n",
    "| Анна | 25      | Москва |\n",
    "| Иван | 30      | Казань |"
   ]
  }
 ],
 "metadata": {
  "language_info": {
   "name": "python"
  }
 },
 "nbformat": 4,
 "nbformat_minor": 5
}
